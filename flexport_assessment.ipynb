{
 "cells": [
  {
   "cell_type": "code",
   "execution_count": 1,
   "metadata": {},
   "outputs": [],
   "source": [
    "import pandas as pd\n",
    "import numpy as np"
   ]
  },
  {
   "cell_type": "code",
   "execution_count": 2,
   "metadata": {},
   "outputs": [],
   "source": [
    "ship = pd.read_csv(\"./shipments.csv\")\n",
    "po = pd.read_csv(\"./po_bookings.csv\")\n",
    "cong = pd.read_csv(\"./consignees.csv\")\n",
    "cont = pd.read_csv(\"./containers.csv\")\n",
    "sup = pd.read_csv(\"./suppliers.csv\")"
   ]
  },
  {
   "cell_type": "code",
   "execution_count": 3,
   "metadata": {},
   "outputs": [
    {
     "name": "stdout",
     "output_type": "stream",
     "text": [
      "<class 'pandas.core.frame.DataFrame'>\n",
      "RangeIndex: 2047 entries, 0 to 2046\n",
      "Data columns (total 5 columns):\n",
      " #   Column                             Non-Null Count  Dtype \n",
      "---  ------                             --------------  ----- \n",
      " 0   supplier_company_id                2047 non-null   int64 \n",
      " 1   supplier_country_code              2047 non-null   object\n",
      " 2   supplier_in_east_china             2047 non-null   object\n",
      " 3   supplier_in_south_china            2047 non-null   object\n",
      " 4   bookings_feature_first_enabled_at  601 non-null    object\n",
      "dtypes: int64(1), object(4)\n",
      "memory usage: 80.1+ KB\n"
     ]
    }
   ],
   "source": [
    "sup.info()"
   ]
  },
  {
   "cell_type": "code",
   "execution_count": 6,
   "metadata": {},
   "outputs": [
    {
     "data": {
      "text/plain": [
       "2047"
      ]
     },
     "execution_count": 6,
     "metadata": {},
     "output_type": "execute_result"
    }
   ],
   "source": [
    "len(sup.supplier_company_id.unique())"
   ]
  },
  {
   "cell_type": "code",
   "execution_count": 23,
   "metadata": {},
   "outputs": [
    {
     "name": "stdout",
     "output_type": "stream",
     "text": [
      "<class 'pandas.core.frame.DataFrame'>\n",
      "RangeIndex: 34 entries, 0 to 33\n",
      "Data columns (total 3 columns):\n",
      " #   Column                    Non-Null Count  Dtype \n",
      "---  ------                    --------------  ----- \n",
      " 0   consignee_company_id      34 non-null     int64 \n",
      " 1   consignee_market_segment  34 non-null     object\n",
      " 2   consignee_created_at      34 non-null     object\n",
      "dtypes: int64(1), object(2)\n",
      "memory usage: 944.0+ bytes\n"
     ]
    }
   ],
   "source": [
    "cong.info()"
   ]
  },
  {
   "cell_type": "code",
   "execution_count": 7,
   "metadata": {},
   "outputs": [
    {
     "data": {
      "text/plain": [
       "34"
      ]
     },
     "execution_count": 7,
     "metadata": {},
     "output_type": "execute_result"
    }
   ],
   "source": [
    "len(cong.consignee_company_id.unique())"
   ]
  },
  {
   "cell_type": "code",
   "execution_count": 24,
   "metadata": {},
   "outputs": [
    {
     "name": "stdout",
     "output_type": "stream",
     "text": [
      "<class 'pandas.core.frame.DataFrame'>\n",
      "RangeIndex: 5400 entries, 0 to 5399\n",
      "Data columns (total 7 columns):\n",
      " #   Column                 Non-Null Count  Dtype  \n",
      "---  ------                 --------------  -----  \n",
      " 0   shipment_id            5400 non-null   int64  \n",
      " 1   container_id           5400 non-null   int64  \n",
      " 2   container_type         5390 non-null   object \n",
      " 3   container_size         5400 non-null   object \n",
      " 4   volume_cbm             5400 non-null   float64\n",
      " 5   weight_kg              5400 non-null   float64\n",
      " 6   container_utilization  5400 non-null   float64\n",
      "dtypes: float64(3), int64(2), object(2)\n",
      "memory usage: 295.4+ KB\n"
     ]
    }
   ],
   "source": [
    "cont.info()"
   ]
  },
  {
   "cell_type": "code",
   "execution_count": 8,
   "metadata": {},
   "outputs": [
    {
     "name": "stdout",
     "output_type": "stream",
     "text": [
      "3533\n",
      "5395\n"
     ]
    }
   ],
   "source": [
    "print(len(cont.shipment_id.unique()))\n",
    "print(len(cont.container_id.unique()))"
   ]
  },
  {
   "cell_type": "code",
   "execution_count": 28,
   "metadata": {},
   "outputs": [
    {
     "data": {
      "text/plain": [
       "Dry           5363\n",
       "Ventilated      25\n",
       "Flat Rack        1\n",
       "Open             1\n",
       "Name: container_type, dtype: int64"
      ]
     },
     "execution_count": 28,
     "metadata": {},
     "output_type": "execute_result"
    }
   ],
   "source": [
    "cont.container_type.value_counts()"
   ]
  },
  {
   "cell_type": "code",
   "execution_count": 15,
   "metadata": {},
   "outputs": [
    {
     "name": "stdout",
     "output_type": "stream",
     "text": [
      "<class 'pandas.core.frame.DataFrame'>\n",
      "RangeIndex: 26085 entries, 0 to 26084\n",
      "Data columns (total 16 columns):\n",
      " #   Column                                     Non-Null Count  Dtype  \n",
      "---  ------                                     --------------  -----  \n",
      " 0   purchase_order_id                          26085 non-null  int64  \n",
      " 1   shipment_id                                26085 non-null  int64  \n",
      " 2   container_id                               4556 non-null   float64\n",
      " 3   product_id                                 26085 non-null  int64  \n",
      " 4   consignee_company_id                       26085 non-null  int64  \n",
      " 5   supplier_company_id                        26085 non-null  int64  \n",
      " 6   purchase_order_created_date                26085 non-null  object \n",
      " 7   purchase_order_requested_cargo_ready_date  25746 non-null  object \n",
      " 8   purchase_order_requested_delivery_date     25444 non-null  object \n",
      " 9   booking_created_date                       26085 non-null  object \n",
      " 10  booking_cargo_ready_date                   25870 non-null  object \n",
      " 11  purchase_order_sku_count                   26085 non-null  int64  \n",
      " 12  purchase_order_sku_price                   22750 non-null  float64\n",
      " 13  booking_sku_count                          26085 non-null  int64  \n",
      " 14  shipped_sku_count                          9124 non-null   float64\n",
      " 15  shipped_sku_price                          9124 non-null   float64\n",
      "dtypes: float64(4), int64(7), object(5)\n",
      "memory usage: 3.2+ MB\n"
     ]
    }
   ],
   "source": [
    "po.info()"
   ]
  },
  {
   "cell_type": "code",
   "execution_count": 12,
   "metadata": {},
   "outputs": [
    {
     "data": {
      "text/plain": [
       "f    7489\n",
       "t      91\n",
       "Name: bco, dtype: int64"
      ]
     },
     "execution_count": 12,
     "metadata": {},
     "output_type": "execute_result"
    }
   ],
   "source": [
    "ship.bco.value_counts()"
   ]
  },
  {
   "cell_type": "code",
   "execution_count": 9,
   "metadata": {},
   "outputs": [
    {
     "data": {
      "text/plain": [
       "3196"
      ]
     },
     "execution_count": 9,
     "metadata": {},
     "output_type": "execute_result"
    }
   ],
   "source": [
    "len(po.purchase_order_id.unique())"
   ]
  },
  {
   "cell_type": "code",
   "execution_count": 11,
   "metadata": {},
   "outputs": [
    {
     "data": {
      "text/plain": [
       "11879"
      ]
     },
     "execution_count": 11,
     "metadata": {},
     "output_type": "execute_result"
    }
   ],
   "source": [
    "len(po.product_id.unique())"
   ]
  },
  {
   "cell_type": "code",
   "execution_count": 10,
   "metadata": {},
   "outputs": [
    {
     "name": "stdout",
     "output_type": "stream",
     "text": [
      "<class 'pandas.core.frame.DataFrame'>\n",
      "RangeIndex: 26085 entries, 0 to 26084\n",
      "Data columns (total 16 columns):\n",
      " #   Column                                     Non-Null Count  Dtype  \n",
      "---  ------                                     --------------  -----  \n",
      " 0   purchase_order_id                          26085 non-null  int64  \n",
      " 1   shipment_id                                26085 non-null  int64  \n",
      " 2   container_id                               4556 non-null   float64\n",
      " 3   product_id                                 26085 non-null  int64  \n",
      " 4   consignee_company_id                       26085 non-null  int64  \n",
      " 5   supplier_company_id                        26085 non-null  int64  \n",
      " 6   purchase_order_created_date                26085 non-null  object \n",
      " 7   purchase_order_requested_cargo_ready_date  25746 non-null  object \n",
      " 8   purchase_order_requested_delivery_date     25444 non-null  object \n",
      " 9   booking_created_date                       26085 non-null  object \n",
      " 10  booking_cargo_ready_date                   25870 non-null  object \n",
      " 11  purchase_order_sku_count                   26085 non-null  int64  \n",
      " 12  purchase_order_sku_price                   22750 non-null  float64\n",
      " 13  booking_sku_count                          26085 non-null  int64  \n",
      " 14  shipped_sku_count                          9124 non-null   float64\n",
      " 15  shipped_sku_price                          9124 non-null   float64\n",
      "dtypes: float64(4), int64(7), object(5)\n",
      "memory usage: 3.2+ MB\n"
     ]
    }
   ],
   "source": [
    "po.info()"
   ]
  },
  {
   "cell_type": "code",
   "execution_count": 28,
   "metadata": {},
   "outputs": [],
   "source": [
    "po['pk'] = [''.join(i) for i in zip(po.purchase_order_id.map(str),po.shipment_id.map(str),po.product_id.map(str),po.container_id.map(str))]"
   ]
  },
  {
   "cell_type": "code",
   "execution_count": 34,
   "metadata": {},
   "outputs": [],
   "source": [
    "po['order_money'] = po.purchase_order_sku_count*po.purchase_order_sku_price\n",
    "po['shipped_money'] = po.shipped_sku_count*po.shipped_sku_price"
   ]
  },
  {
   "cell_type": "code",
   "execution_count": null,
   "metadata": {},
   "outputs": [],
   "source": []
  },
  {
   "cell_type": "code",
   "execution_count": 37,
   "metadata": {},
   "outputs": [],
   "source": [
    "test = po.groupby(\"consignee_company_id\", sort=False)['order_money'].sum()"
   ]
  },
  {
   "cell_type": "code",
   "execution_count": 39,
   "metadata": {},
   "outputs": [],
   "source": [
    "test2 = po.groupby(\"consignee_company_id\", sort=False)['shipped_money'].sum()"
   ]
  },
  {
   "cell_type": "code",
   "execution_count": 38,
   "metadata": {},
   "outputs": [
    {
     "data": {
      "text/plain": [
       "consignee_company_id\n",
       "683679    1.400917e+08\n",
       "546609    5.922229e+08\n",
       "656536    7.843536e+07\n",
       "730503    1.262905e+08\n",
       "678526    7.978584e+06\n",
       "728908    5.694858e+06\n",
       "668418    1.071115e+06\n",
       "740182    1.318741e+07\n",
       "594248    3.538786e+06\n",
       "674105    4.029848e+06\n",
       "2548      6.995871e+05\n",
       "654884    0.000000e+00\n",
       "682827    6.577664e+05\n",
       "Name: order_money, dtype: float64"
      ]
     },
     "execution_count": 38,
     "metadata": {},
     "output_type": "execute_result"
    }
   ],
   "source": [
    "test"
   ]
  },
  {
   "cell_type": "code",
   "execution_count": 40,
   "metadata": {},
   "outputs": [
    {
     "data": {
      "text/plain": [
       "consignee_company_id\n",
       "683679    8.718696e+08\n",
       "546609    3.720933e+08\n",
       "656536    1.464675e+06\n",
       "730503    6.029564e+07\n",
       "678526    0.000000e+00\n",
       "728908    1.852672e+06\n",
       "668418    0.000000e+00\n",
       "740182    0.000000e+00\n",
       "594248    0.000000e+00\n",
       "674105    2.318478e+06\n",
       "2548      0.000000e+00\n",
       "654884    0.000000e+00\n",
       "682827    7.038962e+05\n",
       "Name: shipped_money, dtype: float64"
      ]
     },
     "execution_count": 40,
     "metadata": {},
     "output_type": "execute_result"
    }
   ],
   "source": [
    "test2"
   ]
  },
  {
   "cell_type": "code",
   "execution_count": 30,
   "metadata": {},
   "outputs": [
    {
     "data": {
      "text/plain": [
       "0        422005596013107426201144.0\n",
       "1              41131085671074767nan\n",
       "2             484945968483105268nan\n",
       "3        484885864403107794222360.0\n",
       "4              99953124251584749nan\n",
       "                    ...            \n",
       "26080    177884573301063165132948.0\n",
       "26081         101093124251584752nan\n",
       "26082         270715799952829881nan\n",
       "26083         411566090771386623nan\n",
       "26084         434085908882948389nan\n",
       "Name: pk, Length: 26085, dtype: object"
      ]
     },
     "execution_count": 30,
     "metadata": {},
     "output_type": "execute_result"
    }
   ],
   "source": [
    "po.pk"
   ]
  },
  {
   "cell_type": "code",
   "execution_count": 32,
   "metadata": {},
   "outputs": [
    {
     "data": {
      "text/plain": [
       "7580"
      ]
     },
     "execution_count": 32,
     "metadata": {},
     "output_type": "execute_result"
    }
   ],
   "source": [
    "len(ship.shipment_id.unique())"
   ]
  },
  {
   "cell_type": "code",
   "execution_count": 43,
   "metadata": {},
   "outputs": [
    {
     "data": {
      "text/plain": [
       "CY to CY        4000\n",
       "CFS to CFS      3485\n",
       "CY to Door        66\n",
       "Door to CY        22\n",
       "Door to Door       7\n",
       "Name: freight_service, dtype: int64"
      ]
     },
     "execution_count": 43,
     "metadata": {},
     "output_type": "execute_result"
    }
   ],
   "source": [
    "ship.freight_service.value_counts()"
   ]
  },
  {
   "cell_type": "code",
   "execution_count": 44,
   "metadata": {},
   "outputs": [
    {
     "data": {
      "text/plain": [
       "FOB    5674\n",
       "EXW     871\n",
       "FCA     596\n",
       "DDP     198\n",
       "DAT      86\n",
       "DAP      45\n",
       "CIF      38\n",
       "CFR      10\n",
       "CPT       5\n",
       "Name: incoterms, dtype: int64"
      ]
     },
     "execution_count": 44,
     "metadata": {},
     "output_type": "execute_result"
    }
   ],
   "source": [
    "ship.incoterms.value_counts()"
   ]
  },
  {
   "cell_type": "code",
   "execution_count": 33,
   "metadata": {},
   "outputs": [
    {
     "name": "stdout",
     "output_type": "stream",
     "text": [
      "<class 'pandas.core.frame.DataFrame'>\n",
      "RangeIndex: 7580 entries, 0 to 7579\n",
      "Data columns (total 33 columns):\n",
      " #   Column                                   Non-Null Count  Dtype  \n",
      "---  ------                                   --------------  -----  \n",
      " 0   shipment_id                              7580 non-null   int64  \n",
      " 1   shipment_created_in_system_date          7580 non-null   object \n",
      " 2   mode                                     7580 non-null   object \n",
      " 3   bco                                      7580 non-null   object \n",
      " 4   freight_service                          7580 non-null   object \n",
      " 5   freight_type                             7580 non-null   object \n",
      " 6   incoterms                                7523 non-null   object \n",
      " 7   contains_dangerous_goods                 7576 non-null   object \n",
      " 8   supplier_company_id                      7580 non-null   int64  \n",
      " 9   consignee_company_id                     7580 non-null   int64  \n",
      " 10  supplier_lat                             7556 non-null   float64\n",
      " 11  supplier_lng                             7556 non-null   float64\n",
      " 12  departure_port                           7575 non-null   object \n",
      " 13  arrival_port                             7577 non-null   object \n",
      " 14  inland_port                              1086 non-null   object \n",
      " 15  consignee_final_destination_lat          7344 non-null   float64\n",
      " 16  consignee_final_destination_lng          7344 non-null   float64\n",
      " 17  tradelane                                7580 non-null   object \n",
      " 18  freight_carrier                          7484 non-null   object \n",
      " 19  actual_cargo_ready_date                  7577 non-null   object \n",
      " 20  scheduled_departure_port_departure_date  6878 non-null   object \n",
      " 21  actual_departure_port_departure_date     7191 non-null   object \n",
      " 22  scheduled_arrival_port_arrival_date      7490 non-null   object \n",
      " 23  actual_arrival_port_arrival_date         6993 non-null   object \n",
      " 24  scheduled_inland_port_arrival_date       1063 non-null   object \n",
      " 25  actual_inland_port_arrival_date          922 non-null    object \n",
      " 26  scheduled_delivery_date                  7215 non-null   object \n",
      " 27  actual_delivery_date                     6579 non-null   object \n",
      " 28  includes_customs                         7580 non-null   object \n",
      " 29  target_net_revenue                       7534 non-null   float64\n",
      " 30  estimated_total_cost                     7580 non-null   float64\n",
      " 31  actual_total_cost                        7580 non-null   float64\n",
      " 32  actual_total_invoice                     7580 non-null   float64\n",
      "dtypes: float64(8), int64(3), object(22)\n",
      "memory usage: 1.9+ MB\n"
     ]
    }
   ],
   "source": [
    "ship.info()"
   ]
  }
 ],
 "metadata": {
  "kernelspec": {
   "display_name": "Python 3",
   "language": "python",
   "name": "python3"
  },
  "language_info": {
   "codemirror_mode": {
    "name": "ipython",
    "version": 3
   },
   "file_extension": ".py",
   "mimetype": "text/x-python",
   "name": "python",
   "nbconvert_exporter": "python",
   "pygments_lexer": "ipython3",
   "version": "3.8.0"
  }
 },
 "nbformat": 4,
 "nbformat_minor": 4
}
